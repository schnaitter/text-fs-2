{
 "cells": [
  {
   "cell_type": "markdown",
   "id": "f9a69fbe-87d1-4602-b4ad-89a8248e27de",
   "metadata": {},
   "source": [
    "# 🚀 Korpusanalyse – Textkomplexität"
   ]
  },
  {
   "cell_type": "markdown",
   "id": "1c87b24e-2a0e-46df-bd3c-3a57d0940830",
   "metadata": {},
   "source": [
    "<div class=\"alert alert-block alert-info\"> <b> 🔔 Feinlernziel(e) dieses Kapitels</b></br>\n",
    "   Sie können die Konzeption der Analyse beschreiben und andere Möglichkeiten des Korpus-Splitting entwerfen. </br>\n",
    "    Sie können das Konzept eines Balkendiagramms erklären und das erstellte Diagramm interpretieren sowie die Gründe für Ihre Interpretation nennen.\n",
    "\n",
    "</div>"
   ]
  },
  {
   "cell_type": "markdown",
   "id": "90be2979-44f4-4b9d-851c-d855755d24f5",
   "metadata": {},
   "source": [
    "## Hinweise zur Ausführung des Notebooks\n",
    "Dieses Notebook kann auf unterschiedlichen Levels erarbeitet werden (siehe Abschnitt [\"Technische Voraussetzungen\"](../markdown/introduction_requirements)): \n",
    "1. Book-Only Mode\n",
    "2. Cloud Mode: Dafür auf 🚀 klicken und z.B. in Colab ausführen.\n",
    "3. Local Mode: Dafür auf Herunterladen ↓ klicken und \".ipynb\" wählen. \n",
    "\n",
    "## Übersicht\n",
    "Im Folgenden wird die Textkomplexität der einzelnen Pressemitteilungen mit der Python-Bibliothek [readability](https://pypi.org/project/readability/) errechnet, für unterschiedliche Zeitabschnitte (Monate, Jahre) zusammengefasst und visualisiert. \n",
    "1. Einlesen des Korpus und der Metadaten\n",
    "2. Errechnen der Komplexitätsmaße\n",
    "5. Zusammenfassung für Zeitabschnitte und Visualisierung\n",
    "6. Ergebnisse schreiben"
   ]
  },
  {
   "cell_type": "markdown",
   "id": "e0ddd57a-2882-41de-aa3d-babf3fa674dd",
   "metadata": {},
   "source": [
    "<details>\n",
    "  <summary><b>Informationen zum Ausführen des Notebooks – Zum Ausklappen klicken ⬇️</b></summary>\n",
    "  \n",
    "<b>Voraussetzungen zur Ausführung des Jupyter Notebooks</b>\n",
    "<ol>\n",
    "<li> Installieren der Bibliotheken </li>\n",
    "<li>2. Laden der Daten (z.B. über den Command `wget` (s.u.))</li>\n",
    "<li>3. Pfad zu den Daten setzen</li>\n",
    "</ol>\n",
    "Zum Testen: Ausführen der Zelle \"load libraries\" und der Sektion \"Einlesen des Korpus\". </br>\n",
    "Alle Zellen, die mit 🚀 gekennzeichnet sind, werden nur bei der Ausführung des Noteboos in Colab / JupyterHub bzw. lokal ausgeführt. \n",
    "</details>"
   ]
  },
  {
   "cell_type": "code",
   "execution_count": null,
   "id": "8e658281-233d-4291-97ed-9afa713ab0bf",
   "metadata": {
    "editable": true,
    "slideshow": {
     "slide_type": ""
    },
    "tags": [
     "skip-execution",
     "hide-cell"
    ]
   },
   "outputs": [],
   "source": [
    "# 🚀 Install libraries\n",
    "! pip install textstat pandas matplotlib bokeh"
   ]
  },
  {
   "cell_type": "code",
   "execution_count": null,
   "id": "79a39412-bdbd-45cb-a5d2-86f94105e8a4",
   "metadata": {
    "editable": true,
    "slideshow": {
     "slide_type": ""
    },
    "tags": [
     "hide-cell",
     "hide-output"
    ]
   },
   "outputs": [],
   "source": [
    "# import libraries for table processing and for compuation of readability metrics\n",
    "from pathlib import Path\n",
    "from multiprocessing import Pool, cpu_count\n",
    "from functools import partial\n",
    "\n",
    "import pandas as pd\n",
    "import matplotlib.pyplot as plt\n",
    "import textstat\n",
    "textstat.set_lang(\"de\")\n",
    "\n",
    "from bokeh.io import output_notebook, show\n",
    "from bokeh.plotting import figure\n",
    "from bokeh.layouts import column, row, layout\n",
    "from bokeh.models import ColumnDataSource, CustomJS, TextInput, Div, RadioButtonGroup, Switch, TableColumn, DataTable\n",
    "# Ensure Bokeh output is displayed in the notebook\n",
    "output_notebook()"
   ]
  },
  {
   "cell_type": "markdown",
   "id": "0606f3ba-a80a-4a9f-9399-e063578c3164",
   "metadata": {
    "editable": true,
    "slideshow": {
     "slide_type": ""
    },
    "tags": []
   },
   "source": [
    "## 1. Einlesen der Daten und Metadaten"
   ]
  },
  {
   "cell_type": "markdown",
   "id": "4be4149d-d21d-477e-940c-d059aef3b007",
   "metadata": {},
   "source": [
    "<details>\n",
    "  <summary><b>Informationen zum Ausführen des Notebooks – Zum Ausklappen klicken ⬇️</b></summary>\n",
    "Zuerst wird der Ordner angelegt, in dem die Textdateien gespeichert werden. Der Einfachheit halber wird die gleich Datenablagestruktur wie in dem <a href=\"https://github.com/dh-network/quadriga/tree/main\">GitHub Repository</a>, in dem die Daten gespeichert sind, vorausgesetzt. </br>\n",
    "Der Text wird aus GitHub heruntergeladen und in dem Ordner <i>../data/txt/</i> abgespeichert. </br>\n",
    "Der Pfad kann in der Variable <i>text_path</i> angepasst werden. Die einzulesenden Daten müssen die Endung `.txt` haben. </br>\n",
    "</details>"
   ]
  },
  {
   "cell_type": "markdown",
   "id": "e12d5c5c-5259-4887-998f-d726688bbbb8",
   "metadata": {},
   "source": [
    "### TODO: here rather provide a file with the already computed results?"
   ]
  },
  {
   "cell_type": "code",
   "execution_count": null,
   "id": "b3fe3c60-ea0b-4f77-a955-0642941a70ce",
   "metadata": {
    "editable": true,
    "slideshow": {
     "slide_type": ""
    },
    "tags": [
     "hide-cell",
     "skip-execution"
    ]
   },
   "outputs": [],
   "source": [
    "# 🚀 Create data directory path\n",
    "corpus_path = Path(r\"../data/txt\")\n",
    "if not corpus_path.exists():\n",
    "    corpus_path.mkdir()"
   ]
  },
  {
   "cell_type": "code",
   "execution_count": null,
   "id": "04a9ed84-853d-4435-a8e7-ee05978859d9",
   "metadata": {
    "editable": true,
    "slideshow": {
     "slide_type": ""
    },
    "tags": [
     "skip-execution",
     "hide-cell"
    ]
   },
   "outputs": [],
   "source": [
    "# 🚀 Create download list \n",
    "github_api_txt_dir_path = \"https://github.com/dh-network/quadriga-fs-2/tree/develop/data/txt\n",
    "txt_dir_info = requests.get(github_api_txt_dir_path).json()\n",
    "url_list = [entry[\"download_url\"] for entry in txt_dir_info]\n",
    "\n",
    "# 🚀 Write download list as txt file\n",
    "url_list_path = Path(\"github_txt_file_urls.txt\")\n",
    "with url_list_path.open('w') as output_txt:\n",
    "    output_txt.write(\"\\n\".join(url_list))"
   ]
  },
  {
   "cell_type": "code",
   "execution_count": null,
   "id": "9e7227ed-1d5a-4ac4-9106-b536643b234d",
   "metadata": {
    "editable": true,
    "slideshow": {
     "slide_type": ""
    },
    "tags": [
     "skip-execution",
     "hide-cell"
    ]
   },
   "outputs": [],
   "source": [
    "# ⚠️ Only execute, if you haven't downloaded the files yet!\n",
    "# 🚀 Download all txt files – this step will take a while\n",
    "! wget -i github_txt_file_urls.txt -P ../data/txt"
   ]
  },
  {
   "cell_type": "markdown",
   "id": "979d5144-fe32-4de0-be35-5718bad33bc6",
   "metadata": {},
   "source": [
    "### 1.1 Einlesen des Korpus"
   ]
  },
  {
   "cell_type": "markdown",
   "id": "36424ad1-4e21-4f70-aeb9-a181fa6f13d9",
   "metadata": {},
   "source": [
    "Setzen des Pfads:"
   ]
  },
  {
   "cell_type": "code",
   "execution_count": null,
   "id": "ad6a014d-c319-43bd-bab8-367dac241104",
   "metadata": {
    "editable": true,
    "slideshow": {
     "slide_type": ""
    },
    "tags": []
   },
   "outputs": [],
   "source": [
    "corpus_path = Path(r\"../data/txt/\")"
   ]
  },
  {
   "cell_type": "markdown",
   "id": "6245bd89-1453-4672-87a2-bb4fa8a5bc3a",
   "metadata": {},
   "source": [
    "Korpus einlesen:"
   ]
  },
  {
   "cell_type": "code",
   "execution_count": null,
   "id": "30a4334f-5789-4b2c-9145-2331ff37a0d6",
   "metadata": {
    "editable": true,
    "slideshow": {
     "slide_type": ""
    },
    "tags": []
   },
   "outputs": [],
   "source": [
    "corpus = {\"filename\":[], \"text\":[]}\n",
    "for fp in corpus_path.iterdir():\n",
    "    corpus[\"filename\"].append(fp.name)\n",
    "    corpus[\"text\"].append(fp.read_text())"
   ]
  },
  {
   "cell_type": "markdown",
   "id": "06e30d95-9010-4640-973d-b04163fe69ff",
   "metadata": {
    "editable": true,
    "slideshow": {
     "slide_type": ""
    },
    "tags": []
   },
   "source": [
    "Den ersten eingelesenen Text anzeigen lassen:"
   ]
  },
  {
   "cell_type": "code",
   "execution_count": null,
   "id": "640e0b59-5041-4e32-b52f-b9b5927dac2f",
   "metadata": {
    "editable": true,
    "slideshow": {
     "slide_type": ""
    },
    "tags": []
   },
   "outputs": [],
   "source": [
    "print(corpus[\"text\"][0])"
   ]
  },
  {
   "cell_type": "markdown",
   "id": "954f9693-cda1-4524-a196-2974e440970e",
   "metadata": {
    "editable": true,
    "slideshow": {
     "slide_type": ""
    },
    "tags": []
   },
   "source": [
    "### 1.2 Einlesen der Metadaten"
   ]
  },
  {
   "cell_type": "code",
   "execution_count": null,
   "id": "4d65ce54-9ae6-4cce-bf83-cf25e562d2a0",
   "metadata": {
    "editable": true,
    "slideshow": {
     "slide_type": ""
    },
    "tags": [
     "skip-execution",
     "hide-cell"
    ]
   },
   "outputs": [],
   "source": [
    "# 🚀 Create metadata directory path\n",
    "metadata_dir = Path(\"../data/metadata\")\n",
    "if not metadata_dir.exists():\n",
    "    metadata_dir.mkdir()"
   ]
  },
  {
   "cell_type": "code",
   "execution_count": null,
   "id": "df1348ef-ae57-44c3-89d6-3bf5ad720e63",
   "metadata": {
    "editable": true,
    "slideshow": {
     "slide_type": ""
    },
    "tags": [
     "skip-execution",
     "hide-cell"
    ]
   },
   "outputs": [],
   "source": [
    "# 🚀 Load the metadata file from GitHub \n",
    "! wget https://raw.githubusercontent.com/dh-network/quadriga-fs-2/tree/develop/data/metadata.csv -P ../data"
   ]
  },
  {
   "cell_type": "markdown",
   "id": "82c21ef4-3ee0-4dd1-b993-20e569026422",
   "metadata": {},
   "source": [
    "Pfad zur Metadaten-Datei setzen:"
   ]
  },
  {
   "cell_type": "code",
   "execution_count": null,
   "id": "c40efffd-0595-4ae0-8381-e876612abfdf",
   "metadata": {
    "editable": true,
    "slideshow": {
     "slide_type": ""
    },
    "tags": []
   },
   "outputs": [],
   "source": [
    "metadata_path = \"../data/metadata.csv\""
   ]
  },
  {
   "cell_type": "markdown",
   "id": "99915b06-0ffc-42b3-b724-6cb682afdcbb",
   "metadata": {
    "editable": true,
    "slideshow": {
     "slide_type": ""
    },
    "tags": []
   },
   "source": [
    "Datei einlesen:"
   ]
  },
  {
   "cell_type": "code",
   "execution_count": null,
   "id": "b901578a-21d8-4510-bab6-f2014d8fc82f",
   "metadata": {
    "editable": true,
    "slideshow": {
     "slide_type": ""
    },
    "tags": []
   },
   "outputs": [],
   "source": [
    "metadata_df = pd.read_csv(metadata_path, sep=\",\")"
   ]
  },
  {
   "cell_type": "markdown",
   "id": "bb908a44-570c-4ccc-8284-b3ea24eab37e",
   "metadata": {
    "editable": true,
    "slideshow": {
     "slide_type": ""
    },
    "tags": []
   },
   "source": [
    "Ersten fünf Zeilen anzeigen lassen:"
   ]
  },
  {
   "cell_type": "code",
   "execution_count": null,
   "id": "ecabf9ac-be0c-4b22-bea1-2e85e4b280ee",
   "metadata": {
    "editable": true,
    "slideshow": {
     "slide_type": ""
    },
    "tags": []
   },
   "outputs": [],
   "source": [
    "metadata_df.head()"
   ]
  },
  {
   "cell_type": "markdown",
   "id": "2937a7fd-f99d-422f-a5d2-061a953068e4",
   "metadata": {
    "editable": true,
    "slideshow": {
     "slide_type": ""
    },
    "tags": []
   },
   "source": [
    "## 2. Textkomplexität berechnen \n",
    "\n",
    "### Metriken\n",
    "Alle arbeiten mit durchschnittlicher Satzlänge, nehmen zusätzlich noch Worteigenschaften dazu:\n",
    "* Flesch: Durchschnittliche Anzahl an Silben (deshalb sprachspezifisch) [0 - 100], 0 = sehr schwierig (Professionel), 100 = sehr leicht\n",
    "* ARI: Wortlänge [1 -14], 1=sehr leicht, 14 = schwierig (College)\n",
    "* Wiener Sachtextformel: [4-15] = Schulstufen \n",
    "* Coleman Liau Index: score = grade in school --> höher = schwieriger"
   ]
  },
  {
   "cell_type": "markdown",
   "id": "f2cf5613-e995-4c5b-9852-71e3986a3fa7",
   "metadata": {
    "editable": true,
    "slideshow": {
     "slide_type": ""
    },
    "tags": []
   },
   "source": [
    "Textkomplexität berechnen:"
   ]
  },
  {
   "cell_type": "code",
   "execution_count": null,
   "id": "8d15d3ff-ee14-40a7-a248-ec5a99114324",
   "metadata": {
    "editable": true,
    "slideshow": {
     "slide_type": ""
    },
    "tags": []
   },
   "outputs": [],
   "source": [
    "# vllt dazu noch: reading time ~ text length\n",
    "readability_scores = {}\n",
    "with Pool(cpu_count()) as p:\n",
    "    readability_scores[\"Flesch\"] = p.map(textstat.flesch_reading_ease, corpus[\"text\"])\n",
    "    readability_scores[\"Wiener_Sachtextformel\"] = p.map(partial(textstat.wiener_sachtextformel, variant=1), corpus[\"text\"])\n",
    "    readability_scores[\"ARI\"] = p.map(textstat.automated_readability_index, corpus[\"text\"])\n",
    "    readability_scores[\"Coleman_Liau\"] = p.map(textstat.coleman_liau_index, corpus[\"text\"])\n",
    "\n",
    "for measure, score in readability_scores.items():\n",
    "    corpus[measure] = score"
   ]
  },
  {
   "cell_type": "markdown",
   "id": "6bd9cf22-583b-44e7-8c13-2862403daf9a",
   "metadata": {
    "editable": true,
    "slideshow": {
     "slide_type": ""
    },
    "tags": []
   },
   "source": [
    "Ergebnisse in einem DataFrame speichern und die ersten fünf Einträge anzeigen lassen:"
   ]
  },
  {
   "cell_type": "code",
   "execution_count": null,
   "id": "d89a7d21-b5ec-468f-9f81-7eb2f282af3a",
   "metadata": {
    "editable": true,
    "slideshow": {
     "slide_type": ""
    },
    "tags": []
   },
   "outputs": [],
   "source": [
    "corpus_df = pd.DataFrame(corpus)\n",
    "corpus_df.head()"
   ]
  },
  {
   "cell_type": "markdown",
   "id": "d9661832-6f43-4ec5-950e-e720ed23e78c",
   "metadata": {
    "editable": true,
    "slideshow": {
     "slide_type": ""
    },
    "tags": []
   },
   "source": [
    "Korpusdaten mit dem Metadaten zusammenfügen. Die Einträge werden über den Dateinamen einander zugeordnet."
   ]
  },
  {
   "cell_type": "code",
   "execution_count": null,
   "id": "a02f05e2-168c-448d-9fcb-f5bf3b5e70e1",
   "metadata": {
    "editable": true,
    "slideshow": {
     "slide_type": ""
    },
    "tags": []
   },
   "outputs": [],
   "source": [
    "metadata_df = metadata_df.merge(corpus_df)\n",
    "metadata_df.head()"
   ]
  },
  {
   "cell_type": "markdown",
   "id": "63b89ca2-e9a5-4620-9689-53ac4a072bac",
   "metadata": {
    "editable": true,
    "slideshow": {
     "slide_type": ""
    },
    "tags": []
   },
   "source": [
    "Die zusammengefügten Daten in einer Datei speichern:"
   ]
  },
  {
   "cell_type": "code",
   "execution_count": null,
   "id": "88bcbe8b-ec2f-465d-a27a-b795b7041e79",
   "metadata": {
    "editable": true,
    "slideshow": {
     "slide_type": ""
    },
    "tags": [
     "skip-execution",
     "hide-cell"
    ]
   },
   "outputs": [],
   "source": [
    "# 🚀 Create result directory path\n",
    "result_path = Path(r\"../results\")\n",
    "if not result_path.exists():\n",
    "    result_path.mkdir()"
   ]
  },
  {
   "cell_type": "code",
   "execution_count": null,
   "id": "91823444-072e-4d2c-b8a0-ac33082d3703",
   "metadata": {
    "editable": true,
    "slideshow": {
     "slide_type": ""
    },
    "tags": []
   },
   "outputs": [],
   "source": [
    "result_path = (r\"../results\")\n",
    "metadata_df.to_csv(\"metadata_with_readability_scores.csv\", index=False)"
   ]
  },
  {
   "cell_type": "code",
   "execution_count": null,
   "id": "81c8d725-859a-4aa5-8987-1f0f99c66a8b",
   "metadata": {
    "editable": true,
    "slideshow": {
     "slide_type": ""
    },
    "tags": []
   },
   "outputs": [],
   "source": [
    "# Too slow if one with entire data frame\n",
    "\n",
    "# Convert DataFrame to ColumnDataSource\n",
    "source = ColumnDataSource(metadata_df.head())\n",
    "        \n",
    "# Create Table Columns\n",
    "columns = [TableColumn(field=col, title=col) for col in metadata_df.head().columns]\n",
    "\n",
    "# Create DataTable\n",
    "data_table = DataTable(source=source, columns=columns)\n",
    "\n",
    "# Display DataTable\n",
    "output_notebook()  # Use this to render in Jupyter Notebook\n",
    "show(layout([data_table]))"
   ]
  },
  {
   "cell_type": "markdown",
   "id": "374f69fb-c6b3-4fa5-84f0-b8b8d51c0e4b",
   "metadata": {
    "editable": true,
    "slideshow": {
     "slide_type": ""
    },
    "tags": []
   },
   "source": [
    "## 3. Analyse\n",
    "\n",
    "__3.3 Max und Min-Werte --> can be done with dataframe__ ?\n",
    "* stimmen die Metriken bei der Bestimmung von Max und Min-Werten überein?\n",
    "* Anzeigen der Sätze? "
   ]
  },
  {
   "cell_type": "markdown",
   "id": "d230df90-0c42-4cb5-9874-a245acbbc0f2",
   "metadata": {
    "editable": true,
    "slideshow": {
     "slide_type": ""
    },
    "tags": []
   },
   "source": [
    "## 3.1 Korpus filtern \n",
    "* bei Jahr (2011 - 2024)"
   ]
  },
  {
   "cell_type": "code",
   "execution_count": null,
   "id": "415db73b-1c42-4744-9cea-6108e0c07a28",
   "metadata": {
    "editable": true,
    "slideshow": {
     "slide_type": ""
    },
    "tags": []
   },
   "outputs": [],
   "source": [
    "metadata_df['date'] = pd.to_datetime(metadata_df['date'])\n",
    "metadata_from_2011_df = metadata_df[metadata_df.date.dt.year >= 2011]"
   ]
  },
  {
   "cell_type": "markdown",
   "id": "ebb90802-d3ea-42f1-b9d2-4c6cd47a1c14",
   "metadata": {
    "editable": true,
    "slideshow": {
     "slide_type": ""
    },
    "tags": []
   },
   "source": [
    "## 3.2 Entwicklung über Zeit \n",
    "* Vergleich der Metriken-Entwicklung über die Jahre "
   ]
  },
  {
   "cell_type": "code",
   "execution_count": null,
   "id": "869a543f-146d-42c6-953e-b6acfcf5e58b",
   "metadata": {
    "editable": true,
    "slideshow": {
     "slide_type": ""
    },
    "tags": []
   },
   "outputs": [],
   "source": [
    "metrics = [\"Flesch\", \"ARI\", \"Coleman_Liau\", \"Wiener_Sachtextformel\"]"
   ]
  },
  {
   "cell_type": "code",
   "execution_count": null,
   "id": "546547ac-1d2c-447a-aad8-8999fddae92f",
   "metadata": {
    "editable": true,
    "slideshow": {
     "slide_type": ""
    },
    "tags": []
   },
   "outputs": [],
   "source": [
    "metric_mean_year_df = metadata_from_2011_df.groupby(pd.PeriodIndex(metadata_from_2011_df['date'], freq=\"Y\"))[metrics].mean()"
   ]
  },
  {
   "cell_type": "code",
   "execution_count": null,
   "id": "e67b2072-caeb-4773-a62b-55d3ebf6ab14",
   "metadata": {
    "editable": true,
    "slideshow": {
     "slide_type": ""
    },
    "tags": []
   },
   "outputs": [],
   "source": [
    "metric_mean_year_df.plot()"
   ]
  },
  {
   "cell_type": "code",
   "execution_count": null,
   "id": "c5d80fe8-10bc-4538-96a4-32a0cd8bdc8a",
   "metadata": {
    "editable": true,
    "slideshow": {
     "slide_type": ""
    },
    "tags": []
   },
   "outputs": [],
   "source": [
    "# Create subplots -- attention, they don't start with 0!\n",
    "fig, axes = plt.subplots(nrows=2, ncols=2, figsize=(12, 12))\n",
    "axes = axes.flatten()\n",
    "for i, col in enumerate(metrics):\n",
    "    axes[i].plot(metric_mean_year_df.index.year, metric_mean_year_df[col], marker='o', label=col)\n",
    "    axes[i].set_title(f'{col}')\n",
    "    axes[i].set_xlabel('Jahre')\n",
    "    axes[i].set_ylabel(col)\n",
    "    axes[i].legend()\n",
    "    axes[i].grid(True)\n",
    "\n",
    "plt.tight_layout()  # Adjust layout to prevent overlap\n",
    "plt.show()"
   ]
  },
  {
   "cell_type": "markdown",
   "id": "e0f8c7b9-389e-49c0-b076-28b5161c997b",
   "metadata": {
    "editable": true,
    "slideshow": {
     "slide_type": ""
    },
    "tags": []
   },
   "source": [
    "### 3.2 Interaktive Analysedaten vorbereiten\n",
    "* filter by metric\n",
    "* filter by time"
   ]
  },
  {
   "cell_type": "code",
   "execution_count": null,
   "id": "31a19932-6ca0-4d2a-be78-d86f450483c1",
   "metadata": {
    "editable": true,
    "slideshow": {
     "slide_type": ""
    },
    "tags": []
   },
   "outputs": [],
   "source": [
    "columns_to_keep = []\n",
    "columns_to_keep.extend(metrics)\n",
    "columns_to_keep.append(\"date\")\n",
    "print(columns_to_keep)"
   ]
  },
  {
   "cell_type": "code",
   "execution_count": null,
   "id": "4b808954-91d4-4ccb-9bdf-42a49abdd31c",
   "metadata": {
    "editable": true,
    "slideshow": {
     "slide_type": ""
    },
    "tags": []
   },
   "outputs": [],
   "source": [
    "metadata_filtered = metadata_from_2011_df[columns_to_keep]"
   ]
  },
  {
   "cell_type": "code",
   "execution_count": null,
   "id": "ca822456-d2b8-4045-b93e-4a32afd7d5dd",
   "metadata": {
    "editable": true,
    "slideshow": {
     "slide_type": ""
    },
    "tags": []
   },
   "outputs": [],
   "source": [
    "def plot_with_js(metadata_filtered_df: pd.DataFrame) -> None:\n",
    "    \"\"\" \n",
    "    :param pd.DataFrame merged_df: The merged dataframe of all annotations\n",
    "    \"\"\"\n",
    "    frequency_parameters = [\"Y\", \"M\", \"W-MON\"]\n",
    "    \n",
    "    metrics_to_time_frame = {}\n",
    "    for metric in metrics:\n",
    "        metrics_to_time_frame[metric] = {}\n",
    "        for option in frequency_parameters:\n",
    "            result = metadata_filtered.groupby(pd.PeriodIndex(metadata_filtered['date'], freq=option))[metric].mean()\n",
    "            metrics_to_time_frame[metric][option] = {\"x\": result.index.to_timestamp(), \"y\": result.values}\n",
    "    \n",
    "    # Set month as default for the plot\n",
    "    line_source = ColumnDataSource(data=metrics_to_time_frame[\"Flesch\"][\"Y\"])\n",
    "\n",
    "    # Create a plot\n",
    "    p = figure(title=f\"Lesbarkeitsmaß\", x_axis_type=\"datetime\", x_axis_label='Zeit', \n",
    "               y_axis_label='Durschnittlicher Score', width=700, height=400)\n",
    "    line = p.line('x', 'y', source=line_source, line_width=2, color='blue')\n",
    "\n",
    "    # RadioButtonGroup to select mode\n",
    "    radio_button_group_time = RadioButtonGroup(labels=[\"Monthly\", \"Weekly\", \"Daily\"], active=0)\n",
    "    radio_button_group_metric = RadioButtonGroup(labels=[\"Flesch\", \"ARI\", \"Coleman_Liau\", \"Wiener_Sachtextformel\"], active=0)\n",
    "\n",
    "\n",
    "    # Callback to update the data based on selected mode\n",
    "    callback = CustomJS(\n",
    "        args=dict(\n",
    "            line=line,\n",
    "            sources=metrics_to_time_frame,\n",
    "            radio_button_time=radio_button_group_time,\n",
    "            radio_button_metric=radio_button_group_metric\n",
    "        ),\n",
    "        code=\"\"\"                \n",
    "        // Access the value of the switch\n",
    "        const sources = switch_element.active ? relative_sources : absolute_sources;\n",
    "\n",
    "        // Access the value of the RadioButtonGroup Time\n",
    "        const mode = radio_button_group_time.active;\n",
    "        \n",
    "        // Access the value of the RadioButtonGroup\n",
    "        const base = radio_button_group_metric.active;\n",
    "    \n",
    "        // Retrieve the selected frequency\n",
    "        const freq = [\"M\", \"W-MON\", \"D\"][mode];\n",
    "\n",
    "        // Retrieve the selected metric\n",
    "        const metric = [\"Flesch\", \"ARI\", \"Coleman_Liau\", \"Wiener_Sachtextformel\"][base];\n",
    "    \n",
    "        // update data source and emit change event\n",
    "        line.data_source.data = sources[metric][freq];\n",
    "        line.data_source.change.emit();\n",
    "    \"\"\",\n",
    "    )\n",
    "\n",
    "    # Attach the callback to both widgets\n",
    "    radio_button_group_time.js_on_change('active', callback)\n",
    "    radio_button_group_metric.js_on_change('active', callback)\n",
    "\n",
    "    # Layout the RadioButtonGroup and plot\n",
    "    layout = column(row(radio_button_group_metric, radio_button_group_time), p)\n",
    "    show(layout)"
   ]
  },
  {
   "cell_type": "code",
   "execution_count": null,
   "id": "72f26f29-7c11-4648-97b5-d60ee5fec934",
   "metadata": {
    "editable": true,
    "slideshow": {
     "slide_type": ""
    },
    "tags": []
   },
   "outputs": [],
   "source": [
    "# not interactive yet, updating needs to be fixed\n",
    "plot_with_js(metadata_filtered)"
   ]
  }
 ],
 "metadata": {
  "kernelspec": {
   "display_name": "Python 3 (ipykernel)",
   "language": "python",
   "name": "python3"
  },
  "language_info": {
   "codemirror_mode": {
    "name": "ipython",
    "version": 3
   },
   "file_extension": ".py",
   "mimetype": "text/x-python",
   "name": "python",
   "nbconvert_exporter": "python",
   "pygments_lexer": "ipython3",
   "version": "3.12.8"
  }
 },
 "nbformat": 4,
 "nbformat_minor": 5
}
